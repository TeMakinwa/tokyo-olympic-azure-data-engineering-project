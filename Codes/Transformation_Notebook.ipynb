{
  "cells": [
    {
      "cell_type": "code",
      "source": [
        "import uuid\r\n",
        "\r\n",
        "folderName = uuid.uuid4()"
      ],
      "outputs": [],
      "execution_count": null,
      "metadata": {
        "jupyter": {
          "source_hidden": false,
          "outputs_hidden": false
        },
        "nteract": {
          "transient": {
            "deleting": false
          }
        },
        "tags": [
          "parameters"
        ]
      }
    },
    {
      "cell_type": "code",
      "source": [
        "%%pyspark\r\n",
        "# data lake path for container\r\n",
        "adls_path = 'abfss://tokyo-olympic-data@tokyoolympicportfolio.dfs.core.windows.net/'\r\n",
        "\r\n",
        "# Defines a list of file names to be read from the ADLS\r\n",
        "fileName = ['Athletes','Coaches','EntriesGender', 'Medals', 'Teams']\r\n",
        "\r\n",
        "# Iterates through each file name in the list &\r\n",
        "# Reads the CSV file into a Spark DataFrame and assigns it to a global variable named after the file\r\n",
        "for name in fileName:\r\n",
        "    globals()[name] = spark.read.csv(adls_path + 'raw_data/' + name + '.csv', header=True, inferSchema=True)"
      ],
      "outputs": [
        {
          "output_type": "display_data",
          "data": {
            "application/vnd.livy.statement-meta+json": {
              "spark_pool": "tokyopool",
              "statement_id": 12,
              "statement_ids": [
                12
              ],
              "livy_statement_state": "available",
              "spark_jobs": null,
              "session_id": "10",
              "state": "finished",
              "normalized_state": "finished",
              "queued_time": "2024-07-08T20:00:44.3888155Z",
              "session_start_time": null,
              "execution_start_time": "2024-07-08T20:00:44.8478287Z",
              "execution_finish_time": "2024-07-08T20:00:48.8285104Z",
              "parent_msg_id": "845c56ff-4939-4736-a8d6-f2374a5b103f"
            },
            "text/plain": "StatementMeta(tokyopool, 10, 12, Finished, Available, Finished)"
          },
          "metadata": {}
        }
      ],
      "execution_count": 11,
      "metadata": {
        "microsoft": {
          "language": "python"
        }
      }
    },
    {
      "cell_type": "code",
      "source": [
        "# to preview some files and individual schema\r\n",
        "Athletes.show(5)"
      ],
      "outputs": [
        {
          "output_type": "display_data",
          "data": {
            "application/vnd.livy.statement-meta+json": {
              "spark_pool": "tokyopool",
              "statement_id": 13,
              "statement_ids": [
                13
              ],
              "livy_statement_state": "available",
              "spark_jobs": null,
              "session_id": "10",
              "state": "finished",
              "normalized_state": "finished",
              "queued_time": "2024-07-08T20:00:44.4216473Z",
              "session_start_time": null,
              "execution_start_time": "2024-07-08T20:00:48.9831348Z",
              "execution_finish_time": "2024-07-08T20:00:49.5232232Z",
              "parent_msg_id": "7d3c677d-a7ed-4363-9699-71358998a0bd"
            },
            "text/plain": "StatementMeta(tokyopool, 10, 13, Finished, Available, Finished)"
          },
          "metadata": {}
        },
        {
          "output_type": "stream",
          "name": "stdout",
          "text": [
            "+-----------------+------+-------------------+\n|             Name|   NOC|         Discipline|\n+-----------------+------+-------------------+\n|  AALERUD Katrine|Norway|       Cycling Road|\n|      ABAD Nestor| Spain|Artistic Gymnastics|\n|ABAGNALE Giovanni| Italy|             Rowing|\n|   ABALDE Alberto| Spain|         Basketball|\n|    ABALDE Tamara| Spain|         Basketball|\n+-----------------+------+-------------------+\nonly showing top 5 rows\n\n"
          ]
        }
      ],
      "execution_count": 12,
      "metadata": {
        "jupyter": {
          "source_hidden": false,
          "outputs_hidden": false
        },
        "nteract": {
          "transient": {
            "deleting": false
          }
        }
      }
    },
    {
      "cell_type": "code",
      "source": [
        "Athletes.printSchema()"
      ],
      "outputs": [
        {
          "output_type": "display_data",
          "data": {
            "application/vnd.livy.statement-meta+json": {
              "spark_pool": "tokyopool",
              "statement_id": 14,
              "statement_ids": [
                14
              ],
              "livy_statement_state": "available",
              "spark_jobs": null,
              "session_id": "10",
              "state": "finished",
              "normalized_state": "finished",
              "queued_time": "2024-07-08T20:00:44.4839536Z",
              "session_start_time": null,
              "execution_start_time": "2024-07-08T20:00:49.6934955Z",
              "execution_finish_time": "2024-07-08T20:00:49.8598592Z",
              "parent_msg_id": "ce7df5d2-40bf-463d-acf3-fab6944a30b5"
            },
            "text/plain": "StatementMeta(tokyopool, 10, 14, Finished, Available, Finished)"
          },
          "metadata": {}
        },
        {
          "output_type": "stream",
          "name": "stdout",
          "text": [
            "root\n |-- Name: string (nullable = true)\n |-- NOC: string (nullable = true)\n |-- Discipline: string (nullable = true)\n\n"
          ]
        }
      ],
      "execution_count": 13,
      "metadata": {
        "jupyter": {
          "source_hidden": false,
          "outputs_hidden": false
        },
        "nteract": {
          "transient": {
            "deleting": false
          }
        }
      }
    },
    {
      "cell_type": "code",
      "source": [
        "Medals.show(5)"
      ],
      "outputs": [
        {
          "output_type": "display_data",
          "data": {
            "application/vnd.livy.statement-meta+json": {
              "spark_pool": "tokyopool",
              "statement_id": 15,
              "statement_ids": [
                15
              ],
              "livy_statement_state": "available",
              "spark_jobs": null,
              "session_id": "10",
              "state": "finished",
              "normalized_state": "finished",
              "queued_time": "2024-07-08T20:00:44.5170888Z",
              "session_start_time": null,
              "execution_start_time": "2024-07-08T20:00:50.0189766Z",
              "execution_finish_time": "2024-07-08T20:00:50.5624828Z",
              "parent_msg_id": "4f5d90e9-b3f7-4691-a978-e6900a009f58"
            },
            "text/plain": "StatementMeta(tokyopool, 10, 15, Finished, Available, Finished)"
          },
          "metadata": {}
        },
        {
          "output_type": "stream",
          "name": "stdout",
          "text": [
            "+----+--------------------+----+------+------+-----+-------------+\n|Rank|            Team/NOC|Gold|Silver|Bronze|Total|Rank by Total|\n+----+--------------------+----+------+------+-----+-------------+\n|   1|United States of ...|  39|    41|    33|  113|            1|\n|   2|People's Republic...|  38|    32|    18|   88|            2|\n|   3|               Japan|  27|    14|    17|   58|            5|\n|   4|       Great Britain|  22|    21|    22|   65|            4|\n|   5|                 ROC|  20|    28|    23|   71|            3|\n+----+--------------------+----+------+------+-----+-------------+\nonly showing top 5 rows\n\n"
          ]
        }
      ],
      "execution_count": 14,
      "metadata": {
        "jupyter": {
          "source_hidden": false,
          "outputs_hidden": false
        },
        "nteract": {
          "transient": {
            "deleting": false
          }
        }
      }
    },
    {
      "cell_type": "code",
      "source": [
        "Medals.printSchema()"
      ],
      "outputs": [
        {
          "output_type": "display_data",
          "data": {
            "application/vnd.livy.statement-meta+json": {
              "spark_pool": "tokyopool",
              "statement_id": 16,
              "statement_ids": [
                16
              ],
              "livy_statement_state": "available",
              "spark_jobs": null,
              "session_id": "10",
              "state": "finished",
              "normalized_state": "finished",
              "queued_time": "2024-07-08T20:00:44.5670813Z",
              "session_start_time": null,
              "execution_start_time": "2024-07-08T20:00:50.713788Z",
              "execution_finish_time": "2024-07-08T20:00:50.873072Z",
              "parent_msg_id": "e5282875-4416-4568-9cef-cf133211282b"
            },
            "text/plain": "StatementMeta(tokyopool, 10, 16, Finished, Available, Finished)"
          },
          "metadata": {}
        },
        {
          "output_type": "stream",
          "name": "stdout",
          "text": [
            "root\n |-- Rank: integer (nullable = true)\n |-- Team/NOC: string (nullable = true)\n |-- Gold: integer (nullable = true)\n |-- Silver: integer (nullable = true)\n |-- Bronze: integer (nullable = true)\n |-- Total: integer (nullable = true)\n |-- Rank by Total: integer (nullable = true)\n\n"
          ]
        }
      ],
      "execution_count": 15,
      "metadata": {
        "jupyter": {
          "source_hidden": false,
          "outputs_hidden": false
        },
        "nteract": {
          "transient": {
            "deleting": false
          }
        }
      }
    },
    {
      "cell_type": "code",
      "source": [
        "# to rename column\r\n",
        "Medals = Medals.withColumnRenamed('Team/Noc', 'Team')\r\n",
        "Medals.show(2)"
      ],
      "outputs": [
        {
          "output_type": "display_data",
          "data": {
            "application/vnd.livy.statement-meta+json": {
              "spark_pool": "tokyopool",
              "statement_id": 17,
              "statement_ids": [
                17
              ],
              "livy_statement_state": "available",
              "spark_jobs": null,
              "session_id": "10",
              "state": "finished",
              "normalized_state": "finished",
              "queued_time": "2024-07-08T20:00:44.6194064Z",
              "session_start_time": null,
              "execution_start_time": "2024-07-08T20:00:51.0281855Z",
              "execution_finish_time": "2024-07-08T20:00:51.5728236Z",
              "parent_msg_id": "8b296be8-2946-4277-8bf2-6460dac7645a"
            },
            "text/plain": "StatementMeta(tokyopool, 10, 17, Finished, Available, Finished)"
          },
          "metadata": {}
        },
        {
          "output_type": "stream",
          "name": "stdout",
          "text": [
            "+----+--------------------+----+------+------+-----+-------------+\n|Rank|                Team|Gold|Silver|Bronze|Total|Rank by Total|\n+----+--------------------+----+------+------+-----+-------------+\n|   1|United States of ...|  39|    41|    33|  113|            1|\n|   2|People's Republic...|  38|    32|    18|   88|            2|\n+----+--------------------+----+------+------+-----+-------------+\nonly showing top 2 rows\n\n"
          ]
        }
      ],
      "execution_count": 16,
      "metadata": {
        "jupyter": {
          "source_hidden": false,
          "outputs_hidden": false
        },
        "nteract": {
          "transient": {
            "deleting": false
          }
        }
      }
    },
    {
      "cell_type": "code",
      "source": [
        "# I created another loop to save the transformed files and also to rename the column 'NOC' to 'Country'\r\n",
        "# Loops are fun when I have to iterate a list. I guess I am lazy\r\n",
        "for tables in fileName:\r\n",
        "    df = globals()[tables]\r\n",
        "    globals()[tables] = df.withColumnRenamed(\"NOC\", \"Country\")\r\n",
        "    transformedTable = globals()[tables]\r\n",
        "    transformedTable.repartition(1).write.mode('overwrite').option('header', 'true').csv(adls_path + 'transformed_data/' + tables)"
      ],
      "outputs": [],
      "execution_count": null,
      "metadata": {
        "jupyter": {
          "source_hidden": false,
          "outputs_hidden": false
        },
        "nteract": {
          "transient": {
            "deleting": false
          }
        }
      }
    },
    {
      "cell_type": "code",
      "source": [
        "# to be sure the code is working\r\n",
        "Teams.show(5)"
      ],
      "outputs": [
        {
          "output_type": "display_data",
          "data": {
            "application/vnd.livy.statement-meta+json": {
              "spark_pool": "tokyopool",
              "statement_id": 20,
              "statement_ids": [
                20
              ],
              "livy_statement_state": "available",
              "spark_jobs": null,
              "session_id": "10",
              "state": "finished",
              "normalized_state": "finished",
              "queued_time": "2024-07-08T20:02:26.0128518Z",
              "session_start_time": null,
              "execution_start_time": "2024-07-08T20:02:26.2113177Z",
              "execution_finish_time": "2024-07-08T20:02:26.7408425Z",
              "parent_msg_id": "10c1b8d4-a435-401c-957a-674ea3b27e37"
            },
            "text/plain": "StatementMeta(tokyopool, 10, 20, Finished, Available, Finished)"
          },
          "metadata": {}
        },
        {
          "output_type": "stream",
          "name": "stdout",
          "text": [
            "+-------+--------------+--------------------+-----+\n|   Name|    Discipline|             Country|Event|\n+-------+--------------+--------------------+-----+\n|Belgium|3x3 Basketball|             Belgium|  Men|\n|  China|3x3 Basketball|People's Republic...|  Men|\n|  China|3x3 Basketball|People's Republic...|Women|\n| France|3x3 Basketball|              France|Women|\n|  Italy|3x3 Basketball|               Italy|Women|\n+-------+--------------+--------------------+-----+\nonly showing top 5 rows\n\n"
          ]
        }
      ],
      "execution_count": 19,
      "metadata": {
        "jupyter": {
          "source_hidden": false,
          "outputs_hidden": false
        },
        "nteract": {
          "transient": {
            "deleting": false
          }
        }
      }
    }
  ],
  "metadata": {
    "language_info": {
      "name": "python"
    },
    "kernelspec": {
      "name": "synapse_pyspark",
      "language": "Python",
      "display_name": "Synapse PySpark"
    },
    "kernel_info": {
      "name": "synapse_pyspark"
    },
    "description": null,
    "save_output": true,
    "synapse_widget": {
      "version": "0.1",
      "state": {}
    }
  },
  "nbformat": 4,
  "nbformat_minor": 2
}